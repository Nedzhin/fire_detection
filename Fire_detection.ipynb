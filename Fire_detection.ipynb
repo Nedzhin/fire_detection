{
  "nbformat": 4,
  "nbformat_minor": 0,
  "metadata": {
    "colab": {
      "provenance": []
    },
    "kernelspec": {
      "name": "python3",
      "display_name": "Python 3"
    },
    "language_info": {
      "name": "python"
    },
    "accelerator": "GPU",
    "gpuClass": "standard"
  },
  "cells": [
    {
      "cell_type": "code",
      "execution_count": 13,
      "metadata": {
        "id": "2F9WSlUDds34"
      },
      "outputs": [],
      "source": [
        "import tensorflow as tf\n",
        "import keras_preprocessing\n",
        "from keras_preprocessing import image\n",
        "from keras_preprocessing.image import ImageDataGenerator"
      ]
    },
    {
      "cell_type": "code",
      "source": [
        "train_directory = \"/content/drive/MyDrive/Datathon/train\"\n",
        "training_datagen = ImageDataGenerator(rescale=1./255,\n",
        "zoom_range=0.15,\n",
        "horizontal_flip=True,\n",
        "fill_mode='nearest')\n",
        "\n",
        "\n",
        "valid_directory = \"/content/drive/MyDrive/Datathon/dev\"\n",
        "validation_datagen = ImageDataGenerator(rescale = 1./255)\n",
        "\n",
        "\n",
        "train_generator = training_datagen.flow_from_directory(\n",
        "train_directory,\n",
        "target_size=(224,224),\n",
        "shuffle = True,\n",
        "class_mode='categorical',\n",
        "batch_size = 64)\n",
        "\n",
        "validation_generator = validation_datagen.flow_from_directory(\n",
        "\tvalid_directory,\n",
        "\ttarget_size=(224,224),\n",
        "\tclass_mode='categorical',\n",
        "  batch_size= 16\n",
        ")\n"
      ],
      "metadata": {
        "colab": {
          "base_uri": "https://localhost:8080/"
        },
        "id": "vZvYBciiiWWB",
        "outputId": "0510eb44-6baa-43a6-a01d-cfb17aff8c9e"
      },
      "execution_count": 14,
      "outputs": [
        {
          "output_type": "stream",
          "name": "stdout",
          "text": [
            "Found 2094 images belonging to 2 classes.\n",
            "Found 524 images belonging to 2 classes.\n"
          ]
        }
      ]
    },
    {
      "cell_type": "code",
      "source": [
        "from tensorflow.keras.optimizers import RMSprop,Adam\n",
        "model = tf.keras.models.Sequential([\n",
        "          tf.keras.layers.Conv2D(96, (11,11), strides=(4,4), activation='relu', input_shape=(224, 224, 3)),\n",
        "          tf.keras.layers.MaxPooling2D(pool_size = (3,3), strides=(2,2)),\n",
        "          tf.keras.layers.Conv2D(256, (5,5), activation='relu'),\n",
        "          tf.keras.layers.MaxPooling2D(pool_size = (3,3), strides=(2,2)),\n",
        "          tf.keras.layers.Conv2D(384, (5,5), activation='relu'),\n",
        "          tf.keras.layers.MaxPooling2D(pool_size = (3,3), strides=(2,2)),\n",
        "          tf.keras.layers.Flatten(),\n",
        "          tf.keras.layers.Dropout(0.2),\n",
        "          tf.keras.layers.Dense(2048, activation='relu'),\n",
        "          tf.keras.layers.Dropout(0.25),\n",
        "          tf.keras.layers.Dense(1024, activation='relu'),\n",
        "          tf.keras.layers.Dropout(0.2),\n",
        "          tf.keras.layers.Dense(2, activation='softmax')\n",
        "])\n",
        "model.compile(loss='categorical_crossentropy',\n",
        "              optimizer=Adam(lr=0.0001),\n",
        "              metrics=['acc'])\n",
        "\n",
        "model.summary()"
      ],
      "metadata": {
        "id": "S0RYka94sJv7",
        "colab": {
          "base_uri": "https://localhost:8080/"
        },
        "outputId": "8712ddf8-3dcf-49c0-a0f3-821ed35c9e3a"
      },
      "execution_count": 15,
      "outputs": [
        {
          "output_type": "stream",
          "name": "stdout",
          "text": [
            "Model: \"sequential_1\"\n",
            "_________________________________________________________________\n",
            " Layer (type)                Output Shape              Param #   \n",
            "=================================================================\n",
            " conv2d_3 (Conv2D)           (None, 54, 54, 96)        34944     \n",
            "                                                                 \n",
            " max_pooling2d_3 (MaxPooling  (None, 26, 26, 96)       0         \n",
            " 2D)                                                             \n",
            "                                                                 \n",
            " conv2d_4 (Conv2D)           (None, 22, 22, 256)       614656    \n",
            "                                                                 \n",
            " max_pooling2d_4 (MaxPooling  (None, 10, 10, 256)      0         \n",
            " 2D)                                                             \n",
            "                                                                 \n",
            " conv2d_5 (Conv2D)           (None, 6, 6, 384)         2457984   \n",
            "                                                                 \n",
            " max_pooling2d_5 (MaxPooling  (None, 2, 2, 384)        0         \n",
            " 2D)                                                             \n",
            "                                                                 \n",
            " flatten_1 (Flatten)         (None, 1536)              0         \n",
            "                                                                 \n",
            " dropout_3 (Dropout)         (None, 1536)              0         \n",
            "                                                                 \n",
            " dense_3 (Dense)             (None, 2048)              3147776   \n",
            "                                                                 \n",
            " dropout_4 (Dropout)         (None, 2048)              0         \n",
            "                                                                 \n",
            " dense_4 (Dense)             (None, 1024)              2098176   \n",
            "                                                                 \n",
            " dropout_5 (Dropout)         (None, 1024)              0         \n",
            "                                                                 \n",
            " dense_5 (Dense)             (None, 2)                 2050      \n",
            "                                                                 \n",
            "=================================================================\n",
            "Total params: 8,355,586\n",
            "Trainable params: 8,355,586\n",
            "Non-trainable params: 0\n",
            "_________________________________________________________________\n"
          ]
        },
        {
          "output_type": "stream",
          "name": "stderr",
          "text": [
            "/usr/local/lib/python3.7/dist-packages/keras/optimizers/optimizer_v2/adam.py:110: UserWarning: The `lr` argument is deprecated, use `learning_rate` instead.\n",
            "  super(Adam, self).__init__(name, **kwargs)\n"
          ]
        }
      ]
    },
    {
      "cell_type": "code",
      "source": [
        "history = model.fit(\n",
        "    train_generator,\n",
        "    steps_per_epoch = 15,\n",
        "    epochs = 100,\n",
        "    validation_data = validation_generator,\n",
        "    validation_steps = 15\n",
        "    #callbacks=[callbacks]\n",
        ")"
      ],
      "metadata": {
        "colab": {
          "base_uri": "https://localhost:8080/"
        },
        "id": "ED7rwhJJvuKK",
        "outputId": "a28f97a6-3425-4de1-f3f4-c7dfaf0e0d1d"
      },
      "execution_count": 16,
      "outputs": [
        {
          "output_type": "stream",
          "name": "stdout",
          "text": [
            "Epoch 1/50\n",
            "15/15 [==============================] - 22s 1s/step - loss: 0.5700 - acc: 0.6906 - val_loss: 0.2876 - val_acc: 0.8917\n",
            "Epoch 2/50\n",
            "15/15 [==============================] - 20s 1s/step - loss: 0.3976 - acc: 0.8259 - val_loss: 0.2784 - val_acc: 0.8750\n",
            "Epoch 3/50\n",
            "15/15 [==============================] - 21s 1s/step - loss: 0.2853 - acc: 0.8729 - val_loss: 0.1989 - val_acc: 0.9250\n",
            "Epoch 4/50\n",
            "15/15 [==============================] - 22s 1s/step - loss: 0.2753 - acc: 0.8917 - val_loss: 0.1974 - val_acc: 0.9125\n",
            "Epoch 5/50\n",
            "15/15 [==============================] - 21s 1s/step - loss: 0.2373 - acc: 0.9073 - val_loss: 0.3611 - val_acc: 0.8500\n",
            "Epoch 6/50\n",
            "15/15 [==============================] - 22s 1s/step - loss: 0.2786 - acc: 0.8854 - val_loss: 0.1551 - val_acc: 0.9458\n",
            "Epoch 7/50\n",
            "15/15 [==============================] - 21s 1s/step - loss: 0.2503 - acc: 0.9055 - val_loss: 0.1835 - val_acc: 0.9417\n",
            "Epoch 8/50\n",
            "15/15 [==============================] - 20s 1s/step - loss: 0.2127 - acc: 0.9119 - val_loss: 0.1272 - val_acc: 0.9542\n",
            "Epoch 9/50\n",
            "15/15 [==============================] - 22s 1s/step - loss: 0.2557 - acc: 0.8875 - val_loss: 0.1560 - val_acc: 0.9417\n",
            "Epoch 10/50\n",
            "15/15 [==============================] - 22s 1s/step - loss: 0.2681 - acc: 0.8938 - val_loss: 0.1351 - val_acc: 0.9500\n",
            "Epoch 11/50\n",
            "15/15 [==============================] - 24s 2s/step - loss: 0.1884 - acc: 0.9302 - val_loss: 0.1491 - val_acc: 0.9500\n",
            "Epoch 12/50\n",
            "15/15 [==============================] - 21s 1s/step - loss: 0.1929 - acc: 0.9271 - val_loss: 0.1909 - val_acc: 0.9250\n",
            "Epoch 13/50\n",
            "15/15 [==============================] - 21s 1s/step - loss: 0.1864 - acc: 0.9299 - val_loss: 0.1530 - val_acc: 0.9417\n",
            "Epoch 14/50\n",
            "15/15 [==============================] - 22s 1s/step - loss: 0.1734 - acc: 0.9385 - val_loss: 0.1219 - val_acc: 0.9542\n",
            "Epoch 15/50\n",
            "15/15 [==============================] - 21s 1s/step - loss: 0.1745 - acc: 0.9416 - val_loss: 0.1039 - val_acc: 0.9583\n",
            "Epoch 16/50\n",
            "15/15 [==============================] - 22s 1s/step - loss: 0.1521 - acc: 0.9437 - val_loss: 0.1025 - val_acc: 0.9583\n",
            "Epoch 17/50\n",
            "15/15 [==============================] - 22s 2s/step - loss: 0.1473 - acc: 0.9469 - val_loss: 0.1450 - val_acc: 0.9417\n",
            "Epoch 18/50\n",
            "15/15 [==============================] - 20s 1s/step - loss: 0.1399 - acc: 0.9480 - val_loss: 0.1084 - val_acc: 0.9625\n",
            "Epoch 19/50\n",
            "15/15 [==============================] - 21s 1s/step - loss: 0.1520 - acc: 0.9490 - val_loss: 0.0811 - val_acc: 0.9708\n",
            "Epoch 20/50\n",
            "15/15 [==============================] - 21s 1s/step - loss: 0.1211 - acc: 0.9554 - val_loss: 0.3003 - val_acc: 0.9167\n",
            "Epoch 21/50\n",
            "15/15 [==============================] - 22s 1s/step - loss: 0.2429 - acc: 0.8969 - val_loss: 0.1580 - val_acc: 0.9417\n",
            "Epoch 22/50\n",
            "15/15 [==============================] - 23s 2s/step - loss: 0.1829 - acc: 0.9385 - val_loss: 0.0993 - val_acc: 0.9667\n",
            "Epoch 23/50\n",
            "15/15 [==============================] - 22s 1s/step - loss: 0.1360 - acc: 0.9469 - val_loss: 0.0825 - val_acc: 0.9750\n",
            "Epoch 24/50\n",
            "15/15 [==============================] - 21s 1s/step - loss: 0.1699 - acc: 0.9416 - val_loss: 0.0906 - val_acc: 0.9708\n",
            "Epoch 25/50\n",
            "15/15 [==============================] - 21s 1s/step - loss: 0.1707 - acc: 0.9302 - val_loss: 0.2105 - val_acc: 0.9250\n",
            "Epoch 26/50\n",
            "15/15 [==============================] - 21s 1s/step - loss: 0.1675 - acc: 0.9374 - val_loss: 0.1078 - val_acc: 0.9583\n",
            "Epoch 27/50\n",
            "15/15 [==============================] - 22s 1s/step - loss: 0.1408 - acc: 0.9459 - val_loss: 0.0551 - val_acc: 0.9792\n",
            "Epoch 28/50\n",
            "15/15 [==============================] - 20s 1s/step - loss: 0.1219 - acc: 0.9625 - val_loss: 0.0594 - val_acc: 0.9833\n",
            "Epoch 29/50\n",
            "15/15 [==============================] - 21s 1s/step - loss: 0.1318 - acc: 0.9500 - val_loss: 0.0974 - val_acc: 0.9625\n",
            "Epoch 30/50\n",
            "15/15 [==============================] - 22s 1s/step - loss: 0.1256 - acc: 0.9563 - val_loss: 0.0993 - val_acc: 0.9667\n",
            "Epoch 31/50\n",
            "15/15 [==============================] - 22s 2s/step - loss: 0.1255 - acc: 0.9554 - val_loss: 0.0934 - val_acc: 0.9583\n",
            "Epoch 32/50\n",
            "15/15 [==============================] - 22s 1s/step - loss: 0.1198 - acc: 0.9542 - val_loss: 0.1291 - val_acc: 0.9542\n",
            "Epoch 33/50\n",
            "15/15 [==============================] - 21s 1s/step - loss: 0.1239 - acc: 0.9533 - val_loss: 0.0975 - val_acc: 0.9750\n",
            "Epoch 34/50\n",
            "15/15 [==============================] - 22s 1s/step - loss: 0.1096 - acc: 0.9656 - val_loss: 0.0692 - val_acc: 0.9792\n",
            "Epoch 35/50\n",
            "15/15 [==============================] - 22s 1s/step - loss: 0.1120 - acc: 0.9594 - val_loss: 0.0725 - val_acc: 0.9667\n",
            "Epoch 36/50\n",
            "15/15 [==============================] - 21s 1s/step - loss: 0.1378 - acc: 0.9510 - val_loss: 0.2120 - val_acc: 0.9250\n",
            "Epoch 37/50\n",
            "15/15 [==============================] - 21s 1s/step - loss: 0.1366 - acc: 0.9490 - val_loss: 0.0960 - val_acc: 0.9583\n",
            "Epoch 38/50\n",
            "15/15 [==============================] - 23s 2s/step - loss: 0.1352 - acc: 0.9458 - val_loss: 0.2264 - val_acc: 0.9250\n",
            "Epoch 39/50\n",
            "15/15 [==============================] - 22s 1s/step - loss: 0.1167 - acc: 0.9531 - val_loss: 0.0563 - val_acc: 0.9833\n",
            "Epoch 40/50\n",
            "15/15 [==============================] - 21s 1s/step - loss: 0.0910 - acc: 0.9688 - val_loss: 0.2019 - val_acc: 0.9458\n",
            "Epoch 41/50\n",
            "15/15 [==============================] - 21s 1s/step - loss: 0.1606 - acc: 0.9365 - val_loss: 0.0942 - val_acc: 0.9542\n",
            "Epoch 42/50\n",
            "15/15 [==============================] - 20s 1s/step - loss: 0.1156 - acc: 0.9542 - val_loss: 0.0940 - val_acc: 0.9708\n",
            "Epoch 43/50\n",
            "15/15 [==============================] - 22s 2s/step - loss: 0.0951 - acc: 0.9650 - val_loss: 0.0814 - val_acc: 0.9625\n",
            "Epoch 44/50\n",
            "15/15 [==============================] - 22s 1s/step - loss: 0.0964 - acc: 0.9594 - val_loss: 0.1209 - val_acc: 0.9458\n",
            "Epoch 45/50\n",
            "15/15 [==============================] - 21s 1s/step - loss: 0.1122 - acc: 0.9597 - val_loss: 0.1685 - val_acc: 0.9375\n",
            "Epoch 46/50\n",
            "15/15 [==============================] - 21s 1s/step - loss: 0.1038 - acc: 0.9575 - val_loss: 0.1372 - val_acc: 0.9458\n",
            "Epoch 47/50\n",
            "15/15 [==============================] - 22s 1s/step - loss: 0.0997 - acc: 0.9607 - val_loss: 0.0532 - val_acc: 0.9792\n",
            "Epoch 48/50\n",
            "15/15 [==============================] - 22s 1s/step - loss: 0.1013 - acc: 0.9639 - val_loss: 0.1429 - val_acc: 0.9500\n",
            "Epoch 49/50\n",
            "15/15 [==============================] - 22s 1s/step - loss: 0.1401 - acc: 0.9427 - val_loss: 0.1592 - val_acc: 0.9250\n",
            "Epoch 50/50\n",
            "15/15 [==============================] - 21s 1s/step - loss: 0.1307 - acc: 0.9469 - val_loss: 0.1549 - val_acc: 0.9375\n"
          ]
        }
      ]
    },
    {
      "cell_type": "code",
      "source": [
        "model.save('/content/drive/MyDrive/Datathon/100узщср/100epoch')\n"
      ],
      "metadata": {
        "id": "xTEdt4xhE3FN",
        "outputId": "545d3453-08aa-48f4-b16b-952e8f7b7a19",
        "colab": {
          "base_uri": "https://localhost:8080/"
        }
      },
      "execution_count": 7,
      "outputs": [
        {
          "output_type": "stream",
          "name": "stderr",
          "text": [
            "WARNING:absl:Found untraced functions such as _jit_compiled_convolution_op, _jit_compiled_convolution_op, _jit_compiled_convolution_op while saving (showing 3 of 3). These functions will not be directly callable after loading.\n"
          ]
        }
      ]
    },
    {
      "cell_type": "code",
      "source": [
        "from tensorflow.keras.utils import load_img, img_to_array \n",
        "import numpy as np\n",
        "from tensorflow.keras.models import load_model\n",
        "path = '/content/drive/MyDrive/Datathon/experiment/578.jpg'\n",
        "img = load_img(path, target_size=(224, 224))\n",
        "x = img_to_array(img)\n",
        "x = np.expand_dims(x, axis=0) /255\n",
        "\n",
        "saved_model = load_model('/content/drive/MyDrive/Datathon/models/')\n",
        "classes = model.predict(x)\n",
        "print(np.argmax(classes[0])==0, max(classes[0]))"
      ],
      "metadata": {
        "colab": {
          "base_uri": "https://localhost:8080/"
        },
        "id": "MOg_kZRVwocS",
        "outputId": "c87bdabd-b14a-4b10-c6b6-c1607efea985"
      },
      "execution_count": 18,
      "outputs": [
        {
          "output_type": "stream",
          "name": "stdout",
          "text": [
            "1/1 [==============================] - 0s 15ms/step\n",
            "True 0.92282605\n"
          ]
        }
      ]
    },
    {
      "cell_type": "code",
      "source": [
        "#writing to the test_labels.csv\n",
        "\n",
        "import os\n",
        "from tensorflow.keras.utils import load_img, img_to_array \n",
        "import numpy as np\n",
        "from tensorflow.keras.models import load_model\n",
        "import csv\n",
        "\n",
        "f = open('/content/drive/MyDrive/Datathon/test_labels.csv', 'w')\n",
        "saved_model = load_model('/content/drive/MyDrive/Datathon/100узщср/100epoch')\n",
        "path = '/content/drive/MyDrive/Datathon/test_imgs/'\n",
        "for i in range(1,1000):\n",
        "  cur = f'{path}{i}.jpg'\n",
        "  if os.path.isfile(cur) == 0:\n",
        "    i+=1\n",
        "    continue\n",
        "  img = load_img(cur, target_size=(224, 224))\n",
        "  x = img_to_array(img)\n",
        "  x = np.expand_dims(x, axis=0) /255\n",
        "  classes = saved_model.predict(x)\n",
        "  data = [f'{i}.jpg', 1-np.argmax(classes[0])]\n",
        "\n",
        "  writer = csv.writer(f)\n",
        "  writer.writerow(data)\n",
        "  print(f'{i}.jpg')\n",
        "  print(1-np.argmax(classes[0]))"
      ],
      "metadata": {
        "id": "AJ9ETO000BFn"
      },
      "execution_count": null,
      "outputs": []
    }
  ]
}